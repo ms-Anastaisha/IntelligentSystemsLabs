{
 "cells": [
  {
   "cell_type": "code",
   "execution_count": 1,
   "metadata": {
    "pycharm": {
     "is_executing": true
    }
   },
   "outputs": [],
   "source": [
    "import visualization as vis\n",
    "import nn\n",
    "import dataset as dt\n",
    "import numpy as np\n",
    "import cv2\n",
    "import matplotlib.pyplot as plt\n",
    "import ipywidgets as widgets\n",
    "from IPython.display import clear_output\n",
    "from ipywidgets import interact, interactive, interact_manual\n",
    "\n",
    "from nn import NNet\n",
    "from optimizers import Optimizer\n",
    "\n",
    "\n"
   ]
  },
  {
   "cell_type": "markdown",
   "metadata": {},
   "source": [
    "## Generated figures example"
   ]
  },
  {
   "cell_type": "code",
   "execution_count": 7,
   "metadata": {
    "pycharm": {
     "is_executing": true
    }
   },
   "outputs": [
    {
     "data": {
      "text/plain": [
       "<matplotlib.image.AxesImage at 0x211e50ead30>"
      ]
     },
     "execution_count": 7,
     "metadata": {},
     "output_type": "execute_result"
    },
    {
     "data": {
      "image/png": "[encoded data removed]",
      "text/plain": [
       "<Figure size 504x504 with 4 Axes>"
      ]
     },
     "metadata": {
      "needs_background": "light"
     },
     "output_type": "display_data"
    }
   ],
   "source": [
    "%matplotlib inline\n",
    "\n",
    "fig = plt.figure(figsize=(7,7))\n",
    "ax1 = fig.add_subplot(2,2,1)\n",
    "ax1.imshow(vis.visualize_figure(dt.create_random_circle()),cmap='gray')\n",
    "ax2 = fig.add_subplot(2,2,2)\n",
    "ax2.imshow(vis.visualize_figure(dt.create_random_rectangle()), cmap='gray')\n",
    "ax3 = fig.add_subplot(2,2,3)\n",
    "ax3.imshow(vis.visualize_figure(dt.create_random_sine()),cmap='gray')\n",
    "ax4 = fig.add_subplot(2,2,4)\n",
    "ax4.imshow(vis.visualize_figure(dt.create_random_triangle()),cmap='gray')\n",
    "                "
   ]
  },
  {
   "cell_type": "markdown",
   "metadata": {},
   "source": [
    "## Control panel"
   ]
  },
  {
   "cell_type": "code",
   "execution_count": 8,
   "metadata": {
    "pycharm": {
     "is_executing": true
    }
   },
   "outputs": [],
   "source": [
    "num_classes_widget = widgets.BoundedIntText(value=2, min=2, max=4, step=1, description='num classes:')\n",
    "num_epochs_widget = widgets.BoundedIntText(value=5, min=1, max=20, step=1, description='num epochs:')\n",
    "learning_rate_widget = widgets.Dropdown(options=[1e-4, 1e-3, 1e-2], value=1e-3, description='learning rate:')\n",
    "samples_per_class_widget = widgets.BoundedIntText(value=1000, min=750, max=5000, step=250, description=\"per class:\")\n",
    "train_btn = widgets.Button(description='Train', button_style='')\n",
    "create_btn = widgets.Button(description='Recreate', button_style='')   \n",
    "test_btn = widgets.Button(description='Test', button_style='')\n",
    "test_dataset_btn = widgets.Button(description='Test', button_style='')\n",
    "problem_type = widgets.Dropdown(description=\"problem type\", options=[\"multi-label\", \"multi-class\"], value=\"multi-label\")\n",
    "optimizer_type = widgets.Dropdown(description=\"optimizer\", options=[\"sgd\", \"momentum\", \"adam\"], value=\"adam\")\n",
    "\n",
    "model = NNet()\n",
    "\n",
    "def recreate_model(b):\n",
    "    global model\n",
    "    if problem_type.value == \"multi-label\":\n",
    "        loss = 'mse'\n",
    "    else:\n",
    "        loss = \"softmax\"\n",
    "    model = NNet(hidden_dims=[layer.value for layer in architecture], \n",
    "                 num_cls=num_classes_widget.value, loss=loss)\n",
    "    print(\"Create model finished!\")\n",
    "    \n",
    "\n",
    "def train_model(b):\n",
    "    optimizer = Optimizer(optim_type=optimizer_type.value)\n",
    "    samples_per_class = samples_per_class_widget.value\n",
    "    X_train, y_train = dt.create_dataset(num_classes_widget.value, int(samples_per_class*0.9))\n",
    "    X_val, y_val = dt.create_dataset(num_classes_widget.value, int(samples_per_class*0.1))\n",
    "    model.train(X_train, y_train, X_val, y_val, optimizer, num_epochs=num_epochs_widget.value)\n",
    "    print(\"Training finished!\")\n",
    "    \n",
    "def test_model(b):\n",
    "    #clear_output(wait=True)\n",
    "    display(test_btn)\n",
    "    generate_funcs = [dt.create_random_rectangle, dt.create_random_triangle,\n",
    "                      dt.create_random_circle, dt.create_random_sine]\n",
    "    figure_num = np.random.choice(1000) % num_classes_widget.value\n",
    "    figure = generate_funcs[figure_num]()\n",
    "    horizontal = np.sum(figure, axis=1)\n",
    "    vertical = np.sum(figure, axis=0)\n",
    "    fig_vec = np.append(horizontal, vertical)\n",
    "    prediction = model.predict(fig_vec)\n",
    "    label = np.argmax(prediction)\n",
    "    plt.imshow(vis.visualize_figure(figure),cmap='gray')\n",
    "    print(dt.label2class(label))\n",
    "    all_classes = [\"rectangle\", \"triangle\", \"circle\", \"sine\"]\n",
    "    for i in range(num_classes_widget.value):\n",
    "        print(\"Prediction for %s: %.5f\" % (all_classes[i], prediction[i]))\n",
    "        \n",
    "def test_accuracy(b):\n",
    "    X_test, y_test = dt.create_dataset(num_classes_widget.value, 500)\n",
    "    predictions = model.predict(X_test)\n",
    "    labels = np.argmax(predictions, axis=1)\n",
    "    print(np.mean(y_test == labels))\n",
    "    \n",
    "    \n",
    "create_btn.on_click(recreate_model)\n",
    "train_btn.on_click(train_model)\n",
    "test_btn.on_click(test_model)\n",
    "test_dataset_btn.on_click(test_accuracy)\n",
    "    \n",
    "    "
   ]
  },
  {
   "cell_type": "code",
   "execution_count": 9,
   "metadata": {
    "pycharm": {
     "is_executing": true
    }
   },
   "outputs": [
    {
     "data": {
      "application/vnd.jupyter.widget-view+json": {
       "model_id": "2b2a9e8204b4447799a16da90b529fb8",
       "version_major": 2,
       "version_minor": 0
      },
      "text/plain": [
       "interactive(children=(IntSlider(value=1, description='HiddenLayers', max=3, min=1), Output()), _dom_classes=('…"
      ]
     },
     "metadata": {},
     "output_type": "display_data"
    },
    {
     "data": {
      "application/vnd.jupyter.widget-view+json": {
       "model_id": "4fcf76a42d484efda686937171a59025",
       "version_major": 2,
       "version_minor": 0
      },
      "text/plain": [
       "HBox(children=(VBox(children=(BoundedIntText(value=2, description='num classes:', max=4, min=2), BoundedIntTex…"
      ]
     },
     "metadata": {},
     "output_type": "display_data"
    },
    {
     "name": "stdout",
     "output_type": "stream",
     "text": [
      "Create model finished!\n"
     ]
    },
    {
     "name": "stderr",
     "output_type": "stream",
     "text": [
      "100%|████████████████████████████████████████████████████████████████████████████████████████████████████████████████████████████████████████████| 1350/1350 [00:00<00:00, 9983.55it/s]\n",
      "100%|███████████████████████████████████████████████████████████████████████████████████████████████████████████████████████████████████████████| 1350/1350 [00:00<00:00, 10575.08it/s]\n",
      "100%|███████████████████████████████████████████████████████████████████████████████████████████████████████████████████████████████████████████| 1350/1350 [00:00<00:00, 11570.02it/s]\n",
      "100%|████████████████████████████████████████████████████████████████████████████████████████████████████████████████████████████████████████████| 1350/1350 [00:00<00:00, 7559.76it/s]\n",
      "100%|██████████████████████████████████████████████████████████████████████████████████████████████████████████████████████████████████████████████| 150/150 [00:00<00:00, 9396.54it/s]\n",
      "100%|██████████████████████████████████████████████████████████████████████████████████████████████████████████████████████████████████████████████| 150/150 [00:00<00:00, 8351.86it/s]\n",
      "100%|█████████████████████████████████████████████████████████████████████████████████████████████████████████████████████████████████████████████| 150/150 [00:00<00:00, 10027.18it/s]\n",
      "100%|██████████████████████████████████████████████████████████████████████████████████████████████████████████████████████████████████████████████| 150/150 [00:00<00:00, 7161.34it/s]\n",
      "  0%|                                                                                                                                                            | 0/5 [00:00<?, ?it/s]"
     ]
    }
   ],
   "source": [
    "architecture = []\n",
    "@interact(HiddenLayers=(1, 3, 1))\n",
    "def architecture_ui(HiddenLayers=1):\n",
    "    global architecture\n",
    "    architecture = []\n",
    "    for i in range(HiddenLayers):\n",
    "        architecture.append(widgets.BoundedIntText(value=100, min=10, max=1000, step=10, description='hidden %d' % (i + 1)))\n",
    "    ui = widgets.HBox(architecture)\n",
    "    display(ui)\n",
    "                             \n",
    "inputs_ui = widgets.VBox([num_classes_widget, num_epochs_widget, learning_rate_widget])\n",
    "ui = widgets.HBox([inputs_ui, widgets.VBox([samples_per_class_widget, widgets.HBox([problem_type, optimizer_type]),\n",
    "                                            widgets.HBox([create_btn, train_btn, test_btn, test_dataset_btn])])])\n",
    "                   \n",
    "display(ui)"
   ]
  },
  {
   "cell_type": "code",
   "execution_count": 57,
   "metadata": {},
   "outputs": [
    {
     "name": "stderr",
     "output_type": "stream",
     "text": [
      "100%|██████████████████████████████████████████████| 500/500 [00:00<00:00, 9382.64it/s]\n",
      "100%|██████████████████████████████████████████████| 500/500 [00:00<00:00, 9829.54it/s]\n",
      "100%|█████████████████████████████████████████████| 500/500 [00:00<00:00, 10903.02it/s]\n",
      "100%|██████████████████████████████████████████████| 500/500 [00:00<00:00, 8945.14it/s]"
     ]
    },
    {
     "name": "stdout",
     "output_type": "stream",
     "text": [
      "0.962\n"
     ]
    },
    {
     "name": "stderr",
     "output_type": "stream",
     "text": [
      "\n"
     ]
    }
   ],
   "source": [
    "X_test, y_test = dt.create_dataset(num_classes_widget.value, 500)\n",
    "predictions = model.predict(X_test)\n",
    "labels = np.argmax(predictions, axis=1)\n",
    "print(np.mean(y_test == labels))"
   ]
  },
  {
   "cell_type": "code",
   "execution_count": null,
   "metadata": {},
   "outputs": [],
   "source": []
  },
  {
   "cell_type": "markdown",
   "metadata": {},
   "source": [
    "## Test"
   ]
  }
 ],
 "metadata": {
  "kernelspec": {
   "display_name": "Python 3",
   "language": "python",
   "name": "python3"
  },
  "language_info": {
   "codemirror_mode": {
    "name": "ipython",
    "version": 3
   },
   "file_extension": ".py",
   "mimetype": "text/x-python",
   "name": "python",
   "nbconvert_exporter": "python",
   "pygments_lexer": "ipython3",
   "version": "3.8.8"
  }
 },
 "nbformat": 4,
 "nbformat_minor": 1
}
