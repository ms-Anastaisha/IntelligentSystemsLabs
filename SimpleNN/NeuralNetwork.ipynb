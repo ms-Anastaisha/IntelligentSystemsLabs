{
 "cells": [
  {
   "cell_type": "code",
   "execution_count": 15,
   "metadata": {
    "pycharm": {
     "is_executing": true
    }
   },
   "outputs": [],
   "source": [
    "import visualization as vis\n",
    "import nn\n",
    "import dataset as dt\n",
    "import numpy as np\n",
    "import cv2\n",
    "import matplotlib.pyplot as plt\n",
    "import ipywidgets as widgets\n",
    "from IPython.display import clear_output\n",
    "from ipywidgets import interact, interactive, interact_manual\n",
    "\n",
    "from nn import NNet\n",
    "from optimizers import Optimizer\n",
    "\n",
    "\n"
   ]
  },
  {
   "cell_type": "markdown",
   "metadata": {},
   "source": [
    "## Generated figures example"
   ]
  },
  {
   "cell_type": "code",
   "execution_count": 4,
   "metadata": {
    "pycharm": {
     "is_executing": true
    }
   },
   "outputs": [
    {
     "data": {
      "text/plain": [
       "<matplotlib.image.AxesImage at 0x1865da8f5e0>"
      ]
     },
     "execution_count": 4,
     "metadata": {},
     "output_type": "execute_result"
    },
    {
     "data": {
      "image/png": "[encoded data removed]",
      "text/plain": [
       "<Figure size 504x504 with 4 Axes>"
      ]
     },
     "metadata": {
      "needs_background": "light"
     },
     "output_type": "display_data"
    }
   ],
   "source": [
    "%matplotlib inline\n",
    "\n",
    "fig = plt.figure(figsize=(7,7))\n",
    "ax1 = fig.add_subplot(2,2,1)\n",
    "ax1.imshow(vis.visualize_figure(dt.create_random_circle()),cmap='gray')\n",
    "ax2 = fig.add_subplot(2,2,2)\n",
    "ax2.imshow(vis.visualize_figure(dt.create_random_rectangle()), cmap='gray')\n",
    "ax3 = fig.add_subplot(2,2,3)\n",
    "ax3.imshow(vis.visualize_figure(dt.create_random_sine()),cmap='gray')\n",
    "ax4 = fig.add_subplot(2,2,4)\n",
    "ax4.imshow(vis.visualize_figure(dt.create_random_triangle()),cmap='gray')\n",
    "                "
   ]
  },
  {
   "cell_type": "markdown",
   "metadata": {},
   "source": [
    "## Control panel"
   ]
  },
  {
   "cell_type": "code",
   "execution_count": 47,
   "metadata": {
    "pycharm": {
     "is_executing": true
    }
   },
   "outputs": [],
   "source": [
    "num_classes_widget = widgets.BoundedIntText(value=2, min=2, max=4, step=1, description='num classes:')\n",
    "num_epochs_widget = widgets.BoundedIntText(value=5, min=1, max=20, step=1, description='num epochs:')\n",
    "learning_rate_widget = widgets.Dropdown(options=[1e-4, 1e-3, 1e-2], value=1e-3, description='learning rate:')\n",
    "samples_per_class_widget = widgets.BoundedIntText(value=1000, min=750, max=5000, step=250, description=\"per class:\")\n",
    "train_btn = widgets.Button(description='Train', button_style='')\n",
    "create_btn = widgets.Button(description='Recreate', button_style='')   \n",
    "test_btn = widgets.Button(description='Test', button_style='')\n",
    "test_dataset_btn = widgets.Button(description='Test', button_style='')\n",
    "problem_type = widgets.Dropdown(description=\"problem type\", options=[\"multi-label\", \"multi-class\"], value=\"multi-label\")\n",
    "optimizer_type = widgets.Dropdown(description=\"optimizer\", options=[\"sgd\", \"momentum\", \"adam\"], value=\"adam\")\n",
    "\n",
    "model = NNet()\n",
    "\n",
    "def recreate_model(b):\n",
    "    global model\n",
    "    if problem_type.value == \"multi-label\":\n",
    "        loss = 'mse'\n",
    "    else:\n",
    "        loss = \"softmax\"\n",
    "    model = NNet(hidden_dims=[layer.value for layer in architecture], \n",
    "                 num_cls=num_classes_widget.value, loss=loss)\n",
    "    print(\"Create model finished!\")\n",
    "    \n",
    "\n",
    "def train_model(b):\n",
    "    optimizer = Optimizer(optim_type=optimizer_type.value)\n",
    "    samples_per_class = samples_per_class_widget.value\n",
    "    X_train, y_train = dt.create_dataset(num_classes_widget.value, int(samples_per_class*0.9))\n",
    "    X_val, y_val = dt.create_dataset(num_classes_widget.value, int(samples_per_class*0.1))\n",
    "    model.train(X_train, y_train, X_val, y_val, optimizer, num_epochs=num_epochs_widget.value)\n",
    "    print(\"Training finished!\")\n",
    "    \n",
    "def test_model(b):\n",
    "    #clear_output(wait=True)\n",
    "    display(test_btn)\n",
    "    generate_funcs = [dt.create_random_rectangle, dt.create_random_triangle,\n",
    "                      dt.create_random_circle, dt.create_random_sine]\n",
    "    figure_num = np.random.choice(1000) % num_classes_widget.value\n",
    "    figure = generate_funcs[figure_num]()\n",
    "    horizontal = np.sum(figure, axis=1)\n",
    "    vertical = np.sum(figure, axis=0)\n",
    "    fig_vec = np.append(horizontal, vertical)\n",
    "    prediction = model.predict(fig_vec)\n",
    "    label = np.argmax(prediction)\n",
    "    plt.imshow(vis.visualize_figure(figure),cmap='gray')\n",
    "    print(dt.label2class(label))\n",
    "    all_classes = [\"rectangle\", \"triangle\", \"circle\", \"sine\"]\n",
    "    for i in range(num_classes_widget.value):\n",
    "        print(\"Prediction for %s: %.5f\" % (all_classes[i], prediction[i]))\n",
    "        \n",
    "def test_accuracy(b):\n",
    "    X_test, y_test = dt.create_dataset(num_classes_widget.value, 500)\n",
    "    predictions = model.predict(X_test)\n",
    "    labels = np.argmax(predictions, axis=1)\n",
    "    print(np.mean(y_test == labels))\n",
    "    \n",
    "    \n",
    "create_btn.on_click(recreate_model)\n",
    "train_btn.on_click(train_model)\n",
    "test_btn.on_click(test_model)\n",
    "test_dataset_btn.on_click(test_accuracy)\n",
    "    \n",
    "    "
   ]
  },
  {
   "cell_type": "code",
   "execution_count": 48,
   "metadata": {
    "pycharm": {
     "is_executing": true
    }
   },
   "outputs": [
    {
     "data": {
      "application/vnd.jupyter.widget-view+json": {
       "model_id": "075a19bc10cd4eeeb25ab8d82b0ba4e6",
       "version_major": 2,
       "version_minor": 0
      },
      "text/plain": [
       "interactive(children=(IntSlider(value=1, description='HiddenLayers', max=3, min=1), Output()), _dom_classes=('…"
      ]
     },
     "metadata": {},
     "output_type": "display_data"
    },
    {
     "data": {
      "application/vnd.jupyter.widget-view+json": {
       "model_id": "1847441973ee43d39d1dea0bf1b26190",
       "version_major": 2,
       "version_minor": 0
      },
      "text/plain": [
       "HBox(children=(VBox(children=(BoundedIntText(value=2, description='num classes:', max=4, min=2), BoundedIntTex…"
      ]
     },
     "metadata": {},
     "output_type": "display_data"
    },
    {
     "name": "stdout",
     "output_type": "stream",
     "text": [
      "Create model finished!\n"
     ]
    },
    {
     "name": "stderr",
     "output_type": "stream",
     "text": [
      "100%|████████████████████████████████████████████| 2700/2700 [00:00<00:00, 9885.97it/s]\n",
      "100%|████████████████████████████████████████████| 2700/2700 [00:00<00:00, 9434.94it/s]\n",
      "100%|███████████████████████████████████████████| 2700/2700 [00:00<00:00, 11213.76it/s]\n",
      "100%|████████████████████████████████████████████| 2700/2700 [00:00<00:00, 7285.01it/s]\n",
      "100%|██████████████████████████████████████████████| 300/300 [00:00<00:00, 9699.31it/s]\n",
      "100%|██████████████████████████████████████████████| 300/300 [00:00<00:00, 9585.59it/s]\n",
      "100%|█████████████████████████████████████████████| 300/300 [00:00<00:00, 10008.60it/s]\n",
      "100%|██████████████████████████████████████████████| 300/300 [00:00<00:00, 6995.36it/s]\n",
      "  5%|██▌                                                | 1/20 [00:00<00:03,  5.18it/s]"
     ]
    },
    {
     "name": "stdout",
     "output_type": "stream",
     "text": [
      "\n",
      "Training loss after 1 epoch: 0.1308\n",
      "Validation loss after 1 epoch: 0.1308\n",
      "Training accuracy after 1 epoch: 0.5750\n",
      "Validation accuracy after 1 epoch: 0.5150\n",
      "\n",
      "Training loss after 2 epoch: 0.0845\n"
     ]
    },
    {
     "name": "stderr",
     "output_type": "stream",
     "text": [
      "\r",
      " 10%|█████                                              | 2/20 [00:00<00:03,  4.78it/s]"
     ]
    },
    {
     "name": "stdout",
     "output_type": "stream",
     "text": [
      "Validation loss after 2 epoch: 0.0845\n",
      "Training accuracy after 2 epoch: 0.7979\n",
      "Validation accuracy after 2 epoch: 0.7400\n",
      "\n",
      "Training loss after 3 epoch: 0.0622\n"
     ]
    },
    {
     "name": "stderr",
     "output_type": "stream",
     "text": [
      "\r",
      " 15%|███████▋                                           | 3/20 [00:00<00:03,  4.53it/s]"
     ]
    },
    {
     "name": "stdout",
     "output_type": "stream",
     "text": [
      "Validation loss after 3 epoch: 0.0622\n",
      "Training accuracy after 3 epoch: 0.8719\n",
      "Validation accuracy after 3 epoch: 0.8183\n"
     ]
    },
    {
     "name": "stderr",
     "output_type": "stream",
     "text": [
      "\r",
      " 20%|██████████▏                                        | 4/20 [00:00<00:03,  4.46it/s]"
     ]
    },
    {
     "name": "stdout",
     "output_type": "stream",
     "text": [
      "\n",
      "Training loss after 4 epoch: 0.0478\n",
      "Validation loss after 4 epoch: 0.0478\n",
      "Training accuracy after 4 epoch: 0.9132\n",
      "Validation accuracy after 4 epoch: 0.8642\n"
     ]
    },
    {
     "name": "stderr",
     "output_type": "stream",
     "text": [
      "\r",
      " 25%|████████████▊                                      | 5/20 [00:01<00:03,  4.36it/s]"
     ]
    },
    {
     "name": "stdout",
     "output_type": "stream",
     "text": [
      "\n",
      "Training loss after 5 epoch: 0.0389\n",
      "Validation loss after 5 epoch: 0.0389\n",
      "Training accuracy after 5 epoch: 0.9387\n",
      "Validation accuracy after 5 epoch: 0.8858\n",
      "\n",
      "Training loss after 6 epoch: 0.0300\n"
     ]
    },
    {
     "name": "stderr",
     "output_type": "stream",
     "text": [
      "\r",
      " 30%|███████████████▎                                   | 6/20 [00:01<00:03,  4.50it/s]"
     ]
    },
    {
     "name": "stdout",
     "output_type": "stream",
     "text": [
      "Validation loss after 6 epoch: 0.0300\n",
      "Training accuracy after 6 epoch: 0.9559\n",
      "Validation accuracy after 6 epoch: 0.9058\n"
     ]
    },
    {
     "name": "stderr",
     "output_type": "stream",
     "text": [
      "\r",
      " 35%|█████████████████▊                                 | 7/20 [00:01<00:02,  4.44it/s]"
     ]
    },
    {
     "name": "stdout",
     "output_type": "stream",
     "text": [
      "\n",
      "Training loss after 7 epoch: 0.0345\n",
      "Validation loss after 7 epoch: 0.0345\n",
      "Training accuracy after 7 epoch: 0.9629\n",
      "Validation accuracy after 7 epoch: 0.9133\n"
     ]
    },
    {
     "name": "stderr",
     "output_type": "stream",
     "text": [
      "\r",
      " 40%|████████████████████▍                              | 8/20 [00:01<00:02,  4.41it/s]"
     ]
    },
    {
     "name": "stdout",
     "output_type": "stream",
     "text": [
      "\n",
      "Training loss after 8 epoch: 0.0215\n",
      "Validation loss after 8 epoch: 0.0215\n",
      "Training accuracy after 8 epoch: 0.9711\n",
      "Validation accuracy after 8 epoch: 0.9200\n"
     ]
    },
    {
     "name": "stderr",
     "output_type": "stream",
     "text": [
      "\r",
      " 45%|██████████████████████▉                            | 9/20 [00:01<00:02,  4.50it/s]"
     ]
    },
    {
     "name": "stdout",
     "output_type": "stream",
     "text": [
      "\n",
      "Training loss after 9 epoch: 0.0187\n",
      "Validation loss after 9 epoch: 0.0187\n",
      "Training accuracy after 9 epoch: 0.9775\n",
      "Validation accuracy after 9 epoch: 0.9217\n"
     ]
    },
    {
     "name": "stderr",
     "output_type": "stream",
     "text": [
      "\r",
      " 50%|█████████████████████████                         | 10/20 [00:02<00:02,  4.55it/s]"
     ]
    },
    {
     "name": "stdout",
     "output_type": "stream",
     "text": [
      "\n",
      "Training loss after 10 epoch: 0.0162\n",
      "Validation loss after 10 epoch: 0.0162\n",
      "Training accuracy after 10 epoch: 0.9811\n",
      "Validation accuracy after 10 epoch: 0.9250\n"
     ]
    },
    {
     "name": "stderr",
     "output_type": "stream",
     "text": [
      "\r",
      " 55%|███████████████████████████▌                      | 11/20 [00:02<00:01,  4.67it/s]"
     ]
    },
    {
     "name": "stdout",
     "output_type": "stream",
     "text": [
      "\n",
      "Training loss after 11 epoch: 0.0145\n",
      "Validation loss after 11 epoch: 0.0145\n",
      "Training accuracy after 11 epoch: 0.9839\n",
      "Validation accuracy after 11 epoch: 0.9292\n"
     ]
    },
    {
     "name": "stderr",
     "output_type": "stream",
     "text": [
      "\r",
      " 60%|██████████████████████████████                    | 12/20 [00:02<00:01,  4.58it/s]"
     ]
    },
    {
     "name": "stdout",
     "output_type": "stream",
     "text": [
      "\n",
      "Training loss after 12 epoch: 0.0114\n",
      "Validation loss after 12 epoch: 0.0114\n",
      "Training accuracy after 12 epoch: 0.9875\n",
      "Validation accuracy after 12 epoch: 0.9275\n",
      "\n",
      "Training loss after 13 epoch: 0.0136\n",
      "Validation loss after 13 epoch: 0.0136\n"
     ]
    },
    {
     "name": "stderr",
     "output_type": "stream",
     "text": [
      "\r",
      " 65%|████████████████████████████████▌                 | 13/20 [00:02<00:01,  4.90it/s]"
     ]
    },
    {
     "name": "stdout",
     "output_type": "stream",
     "text": [
      "Training accuracy after 13 epoch: 0.9892\n",
      "Validation accuracy after 13 epoch: 0.9325\n",
      "\n",
      "Training loss after 14 epoch: 0.0107\n"
     ]
    },
    {
     "name": "stderr",
     "output_type": "stream",
     "text": [
      "\r",
      " 70%|███████████████████████████████████               | 14/20 [00:03<00:01,  4.75it/s]"
     ]
    },
    {
     "name": "stdout",
     "output_type": "stream",
     "text": [
      "Validation loss after 14 epoch: 0.0107\n",
      "Training accuracy after 14 epoch: 0.9904\n",
      "Validation accuracy after 14 epoch: 0.9317\n",
      "\n",
      "Training loss after 15 epoch: 0.0100\n"
     ]
    },
    {
     "name": "stderr",
     "output_type": "stream",
     "text": [
      "\r",
      " 75%|█████████████████████████████████████▌            | 15/20 [00:03<00:01,  4.62it/s]"
     ]
    },
    {
     "name": "stdout",
     "output_type": "stream",
     "text": [
      "Validation loss after 15 epoch: 0.0100\n",
      "Training accuracy after 15 epoch: 0.9903\n",
      "Validation accuracy after 15 epoch: 0.9317\n"
     ]
    },
    {
     "name": "stderr",
     "output_type": "stream",
     "text": [
      "\r",
      " 80%|████████████████████████████████████████          | 16/20 [00:03<00:00,  4.50it/s]"
     ]
    },
    {
     "name": "stdout",
     "output_type": "stream",
     "text": [
      "\n",
      "Training loss after 16 epoch: 0.0087\n",
      "Validation loss after 16 epoch: 0.0087\n",
      "Training accuracy after 16 epoch: 0.9925\n",
      "Validation accuracy after 16 epoch: 0.9350\n"
     ]
    },
    {
     "name": "stderr",
     "output_type": "stream",
     "text": [
      "\r",
      " 85%|██████████████████████████████████████████▌       | 17/20 [00:03<00:00,  4.47it/s]"
     ]
    },
    {
     "name": "stdout",
     "output_type": "stream",
     "text": [
      "\n",
      "Training loss after 17 epoch: 0.0095\n",
      "Validation loss after 17 epoch: 0.0095\n",
      "Training accuracy after 17 epoch: 0.9911\n",
      "Validation accuracy after 17 epoch: 0.9358\n",
      "\n",
      "Training loss after 18 epoch: 0.0070\n"
     ]
    },
    {
     "name": "stderr",
     "output_type": "stream",
     "text": [
      "\r",
      " 90%|█████████████████████████████████████████████     | 18/20 [00:03<00:00,  4.61it/s]"
     ]
    },
    {
     "name": "stdout",
     "output_type": "stream",
     "text": [
      "Validation loss after 18 epoch: 0.0070\n",
      "Training accuracy after 18 epoch: 0.9938\n",
      "Validation accuracy after 18 epoch: 0.9333\n",
      "\n",
      "Training loss after 19 epoch: 0.0056\n"
     ]
    },
    {
     "name": "stderr",
     "output_type": "stream",
     "text": [
      "\r",
      " 95%|███████████████████████████████████████████████▌  | 19/20 [00:04<00:00,  4.62it/s]"
     ]
    },
    {
     "name": "stdout",
     "output_type": "stream",
     "text": [
      "Validation loss after 19 epoch: 0.0056\n",
      "Training accuracy after 19 epoch: 0.9943\n",
      "Validation accuracy after 19 epoch: 0.9333\n"
     ]
    },
    {
     "name": "stderr",
     "output_type": "stream",
     "text": [
      "100%|██████████████████████████████████████████████████| 20/20 [00:04<00:00,  4.59it/s]"
     ]
    },
    {
     "name": "stdout",
     "output_type": "stream",
     "text": [
      "\n",
      "Training loss after 20 epoch: 0.0092\n",
      "Validation loss after 20 epoch: 0.0092\n",
      "Training accuracy after 20 epoch: 0.9912\n",
      "Validation accuracy after 20 epoch: 0.9242\n",
      "Training finished!\n"
     ]
    },
    {
     "name": "stderr",
     "output_type": "stream",
     "text": [
      "\n",
      "100%|████████████████████████████████████████████| 2700/2700 [00:00<00:00, 9307.26it/s]\n",
      "100%|████████████████████████████████████████████| 2700/2700 [00:00<00:00, 9753.83it/s]\n",
      "100%|███████████████████████████████████████████| 2700/2700 [00:00<00:00, 11055.57it/s]\n",
      "100%|████████████████████████████████████████████| 2700/2700 [00:00<00:00, 6995.23it/s]\n",
      "100%|██████████████████████████████████████████████| 300/300 [00:00<00:00, 9107.30it/s]\n",
      "100%|█████████████████████████████████████████████| 300/300 [00:00<00:00, 10013.46it/s]\n",
      "100%|██████████████████████████████████████████████| 300/300 [00:00<00:00, 9703.65it/s]\n",
      "100%|██████████████████████████████████████████████| 300/300 [00:00<00:00, 6997.04it/s]\n",
      "  5%|██▌                                                | 1/20 [00:00<00:03,  5.41it/s]"
     ]
    },
    {
     "name": "stdout",
     "output_type": "stream",
     "text": [
      "\n",
      "Training loss after 1 epoch: 0.0373\n",
      "Validation loss after 1 epoch: 0.0373\n",
      "Training accuracy after 1 epoch: 0.9594\n",
      "Validation accuracy after 1 epoch: 0.9550\n"
     ]
    },
    {
     "name": "stderr",
     "output_type": "stream",
     "text": [
      "\r",
      " 10%|█████                                              | 2/20 [00:00<00:03,  4.73it/s]"
     ]
    },
    {
     "name": "stdout",
     "output_type": "stream",
     "text": [
      "\n",
      "Training loss after 2 epoch: 0.0230\n",
      "Validation loss after 2 epoch: 0.0230\n",
      "Training accuracy after 2 epoch: 0.9669\n",
      "Validation accuracy after 2 epoch: 0.9633\n",
      "\n",
      "Training loss after 3 epoch: 0.0182\n"
     ]
    },
    {
     "name": "stderr",
     "output_type": "stream",
     "text": [
      "\r",
      " 15%|███████▋                                           | 3/20 [00:00<00:03,  4.77it/s]"
     ]
    },
    {
     "name": "stdout",
     "output_type": "stream",
     "text": [
      "Validation loss after 3 epoch: 0.0182\n",
      "Training accuracy after 3 epoch: 0.9758\n",
      "Validation accuracy after 3 epoch: 0.9633\n"
     ]
    },
    {
     "name": "stderr",
     "output_type": "stream",
     "text": [
      "\r",
      " 20%|██████████▏                                        | 4/20 [00:00<00:03,  4.56it/s]"
     ]
    },
    {
     "name": "stdout",
     "output_type": "stream",
     "text": [
      "\n",
      "Training loss after 4 epoch: 0.0126\n",
      "Validation loss after 4 epoch: 0.0126\n",
      "Training accuracy after 4 epoch: 0.9773\n",
      "Validation accuracy after 4 epoch: 0.9600\n"
     ]
    },
    {
     "name": "stderr",
     "output_type": "stream",
     "text": [
      "\r",
      " 25%|████████████▊                                      | 5/20 [00:01<00:03,  4.56it/s]"
     ]
    },
    {
     "name": "stdout",
     "output_type": "stream",
     "text": [
      "\n",
      "Training loss after 5 epoch: 0.0088\n",
      "Validation loss after 5 epoch: 0.0088\n",
      "Training accuracy after 5 epoch: 0.9810\n",
      "Validation accuracy after 5 epoch: 0.9583\n"
     ]
    },
    {
     "name": "stderr",
     "output_type": "stream",
     "text": [
      "\r",
      " 30%|███████████████▎                                   | 6/20 [00:01<00:03,  4.53it/s]"
     ]
    },
    {
     "name": "stdout",
     "output_type": "stream",
     "text": [
      "\n",
      "Training loss after 6 epoch: 0.0123\n",
      "Validation loss after 6 epoch: 0.0123\n",
      "Training accuracy after 6 epoch: 0.9829\n",
      "Validation accuracy after 6 epoch: 0.9583\n",
      "\n",
      "Training loss after 7 epoch: 0.0085\n"
     ]
    },
    {
     "name": "stderr",
     "output_type": "stream",
     "text": [
      "\r",
      " 35%|█████████████████▊                                 | 7/20 [00:01<00:02,  4.59it/s]"
     ]
    },
    {
     "name": "stdout",
     "output_type": "stream",
     "text": [
      "Validation loss after 7 epoch: 0.0085\n",
      "Training accuracy after 7 epoch: 0.9833\n",
      "Validation accuracy after 7 epoch: 0.9575\n",
      "\n",
      "Training loss after 8 epoch: 0.0082\n"
     ]
    },
    {
     "name": "stderr",
     "output_type": "stream",
     "text": [
      "\r",
      " 40%|████████████████████▍                              | 8/20 [00:01<00:02,  4.69it/s]"
     ]
    },
    {
     "name": "stdout",
     "output_type": "stream",
     "text": [
      "Validation loss after 8 epoch: 0.0082\n",
      "Training accuracy after 8 epoch: 0.9854\n",
      "Validation accuracy after 8 epoch: 0.9583\n"
     ]
    },
    {
     "name": "stderr",
     "output_type": "stream",
     "text": [
      "\r",
      " 45%|██████████████████████▉                            | 9/20 [00:01<00:02,  4.71it/s]"
     ]
    },
    {
     "name": "stdout",
     "output_type": "stream",
     "text": [
      "\n",
      "Training loss after 9 epoch: 0.0078\n",
      "Validation loss after 9 epoch: 0.0078\n",
      "Training accuracy after 9 epoch: 0.9863\n",
      "Validation accuracy after 9 epoch: 0.9592\n"
     ]
    },
    {
     "name": "stderr",
     "output_type": "stream",
     "text": [
      "\r",
      " 50%|█████████████████████████                         | 10/20 [00:02<00:02,  4.60it/s]"
     ]
    },
    {
     "name": "stdout",
     "output_type": "stream",
     "text": [
      "\n",
      "Training loss after 10 epoch: 0.0084\n",
      "Validation loss after 10 epoch: 0.0084\n",
      "Training accuracy after 10 epoch: 0.9871\n",
      "Validation accuracy after 10 epoch: 0.9600\n"
     ]
    },
    {
     "name": "stderr",
     "output_type": "stream",
     "text": [
      "\r",
      " 55%|███████████████████████████▌                      | 11/20 [00:02<00:01,  4.51it/s]"
     ]
    },
    {
     "name": "stdout",
     "output_type": "stream",
     "text": [
      "\n",
      "Training loss after 11 epoch: 0.0106\n",
      "Validation loss after 11 epoch: 0.0106\n",
      "Training accuracy after 11 epoch: 0.9878\n",
      "Validation accuracy after 11 epoch: 0.9575\n"
     ]
    },
    {
     "name": "stderr",
     "output_type": "stream",
     "text": [
      "\r",
      " 60%|██████████████████████████████                    | 12/20 [00:02<00:01,  4.59it/s]"
     ]
    },
    {
     "name": "stdout",
     "output_type": "stream",
     "text": [
      "\n",
      "Training loss after 12 epoch: 0.0143\n",
      "Validation loss after 12 epoch: 0.0143\n",
      "Training accuracy after 12 epoch: 0.9878\n",
      "Validation accuracy after 12 epoch: 0.9558\n"
     ]
    },
    {
     "name": "stderr",
     "output_type": "stream",
     "text": [
      "\r",
      " 65%|████████████████████████████████▌                 | 13/20 [00:02<00:01,  4.51it/s]"
     ]
    },
    {
     "name": "stdout",
     "output_type": "stream",
     "text": [
      "\n",
      "Training loss after 13 epoch: 0.0096\n",
      "Validation loss after 13 epoch: 0.0096\n",
      "Training accuracy after 13 epoch: 0.9876\n",
      "Validation accuracy after 13 epoch: 0.9567\n"
     ]
    },
    {
     "name": "stderr",
     "output_type": "stream",
     "text": [
      "\r",
      " 70%|███████████████████████████████████               | 14/20 [00:03<00:01,  4.42it/s]"
     ]
    },
    {
     "name": "stdout",
     "output_type": "stream",
     "text": [
      "\n",
      "Training loss after 14 epoch: 0.0073\n",
      "Validation loss after 14 epoch: 0.0073\n",
      "Training accuracy after 14 epoch: 0.9881\n",
      "Validation accuracy after 14 epoch: 0.9575\n"
     ]
    },
    {
     "name": "stderr",
     "output_type": "stream",
     "text": [
      "\r",
      " 75%|█████████████████████████████████████▌            | 15/20 [00:03<00:01,  4.47it/s]"
     ]
    },
    {
     "name": "stdout",
     "output_type": "stream",
     "text": [
      "\n",
      "Training loss after 15 epoch: 0.0101\n",
      "Validation loss after 15 epoch: 0.0101\n",
      "Training accuracy after 15 epoch: 0.9884\n",
      "Validation accuracy after 15 epoch: 0.9575\n"
     ]
    },
    {
     "name": "stderr",
     "output_type": "stream",
     "text": [
      "\r",
      " 80%|████████████████████████████████████████          | 16/20 [00:03<00:00,  4.49it/s]"
     ]
    },
    {
     "name": "stdout",
     "output_type": "stream",
     "text": [
      "\n",
      "Training loss after 16 epoch: 0.0077\n",
      "Validation loss after 16 epoch: 0.0077\n",
      "Training accuracy after 16 epoch: 0.9890\n",
      "Validation accuracy after 16 epoch: 0.9558\n"
     ]
    },
    {
     "name": "stderr",
     "output_type": "stream",
     "text": [
      "\r",
      " 85%|██████████████████████████████████████████▌       | 17/20 [00:03<00:00,  4.47it/s]"
     ]
    },
    {
     "name": "stdout",
     "output_type": "stream",
     "text": [
      "\n",
      "Training loss after 17 epoch: 0.0074\n",
      "Validation loss after 17 epoch: 0.0074\n",
      "Training accuracy after 17 epoch: 0.9895\n",
      "Validation accuracy after 17 epoch: 0.9583\n",
      "\n",
      "Training loss after 18 epoch: 0.0145\n"
     ]
    },
    {
     "name": "stderr",
     "output_type": "stream",
     "text": [
      "\r",
      " 90%|█████████████████████████████████████████████     | 18/20 [00:03<00:00,  4.52it/s]"
     ]
    },
    {
     "name": "stdout",
     "output_type": "stream",
     "text": [
      "Validation loss after 18 epoch: 0.0145\n",
      "Training accuracy after 18 epoch: 0.9875\n",
      "Validation accuracy after 18 epoch: 0.9525\n"
     ]
    },
    {
     "name": "stderr",
     "output_type": "stream",
     "text": [
      "\r",
      " 95%|███████████████████████████████████████████████▌  | 19/20 [00:04<00:00,  4.47it/s]"
     ]
    },
    {
     "name": "stdout",
     "output_type": "stream",
     "text": [
      "\n",
      "Training loss after 19 epoch: 0.0095\n",
      "Validation loss after 19 epoch: 0.0095\n",
      "Training accuracy after 19 epoch: 0.9875\n",
      "Validation accuracy after 19 epoch: 0.9508\n"
     ]
    },
    {
     "name": "stderr",
     "output_type": "stream",
     "text": [
      "100%|██████████████████████████████████████████████████| 20/20 [00:04<00:00,  4.53it/s]"
     ]
    },
    {
     "name": "stdout",
     "output_type": "stream",
     "text": [
      "\n",
      "Training loss after 20 epoch: 0.0070\n",
      "Validation loss after 20 epoch: 0.0070\n",
      "Training accuracy after 20 epoch: 0.9888\n",
      "Validation accuracy after 20 epoch: 0.9500\n",
      "Training finished!\n"
     ]
    },
    {
     "name": "stderr",
     "output_type": "stream",
     "text": [
      "\n",
      "100%|███████████████████████████████████████████| 2700/2700 [00:00<00:00, 10731.02it/s]\n",
      "100%|███████████████████████████████████████████| 2700/2700 [00:00<00:00, 10208.36it/s]\n",
      "100%|███████████████████████████████████████████| 2700/2700 [00:00<00:00, 10593.76it/s]\n",
      "100%|████████████████████████████████████████████| 2700/2700 [00:00<00:00, 7196.71it/s]\n",
      "100%|██████████████████████████████████████████████| 300/300 [00:00<00:00, 9113.30it/s]\n",
      "100%|██████████████████████████████████████████████| 300/300 [00:00<00:00, 9703.05it/s]\n",
      "100%|█████████████████████████████████████████████| 300/300 [00:00<00:00, 10020.48it/s]\n",
      "100%|██████████████████████████████████████████████| 300/300 [00:00<00:00, 6836.27it/s]\n",
      "  5%|██▌                                                | 1/20 [00:00<00:04,  4.58it/s]"
     ]
    },
    {
     "name": "stdout",
     "output_type": "stream",
     "text": [
      "\n",
      "Training loss after 1 epoch: 0.0192\n",
      "Validation loss after 1 epoch: 0.0192\n",
      "Training accuracy after 1 epoch: 0.9728\n",
      "Validation accuracy after 1 epoch: 0.9633\n"
     ]
    },
    {
     "name": "stderr",
     "output_type": "stream",
     "text": [
      "\r",
      " 10%|█████                                              | 2/20 [00:00<00:03,  4.54it/s]"
     ]
    },
    {
     "name": "stdout",
     "output_type": "stream",
     "text": [
      "\n",
      "Training loss after 2 epoch: 0.0124\n",
      "Validation loss after 2 epoch: 0.0124\n",
      "Training accuracy after 2 epoch: 0.9787\n",
      "Validation accuracy after 2 epoch: 0.9617\n"
     ]
    },
    {
     "name": "stderr",
     "output_type": "stream",
     "text": [
      "\r",
      " 15%|███████▋                                           | 3/20 [00:00<00:03,  4.54it/s]"
     ]
    },
    {
     "name": "stdout",
     "output_type": "stream",
     "text": [
      "\n",
      "Training loss after 3 epoch: 0.0122\n",
      "Validation loss after 3 epoch: 0.0122\n",
      "Training accuracy after 3 epoch: 0.9819\n",
      "Validation accuracy after 3 epoch: 0.9667\n"
     ]
    },
    {
     "name": "stderr",
     "output_type": "stream",
     "text": [
      "\r",
      " 20%|██████████▏                                        | 4/20 [00:00<00:03,  4.60it/s]"
     ]
    },
    {
     "name": "stdout",
     "output_type": "stream",
     "text": [
      "\n",
      "Training loss after 4 epoch: 0.0100\n",
      "Validation loss after 4 epoch: 0.0100\n",
      "Training accuracy after 4 epoch: 0.9842\n",
      "Validation accuracy after 4 epoch: 0.9675\n"
     ]
    },
    {
     "name": "stderr",
     "output_type": "stream",
     "text": [
      "\r",
      " 25%|████████████▊                                      | 5/20 [00:01<00:03,  4.61it/s]"
     ]
    },
    {
     "name": "stdout",
     "output_type": "stream",
     "text": [
      "\n",
      "Training loss after 5 epoch: 0.0094\n",
      "Validation loss after 5 epoch: 0.0094\n",
      "Training accuracy after 5 epoch: 0.9850\n",
      "Validation accuracy after 5 epoch: 0.9667\n"
     ]
    },
    {
     "name": "stderr",
     "output_type": "stream",
     "text": [
      "\r",
      " 30%|███████████████▎                                   | 6/20 [00:01<00:03,  3.67it/s]"
     ]
    },
    {
     "name": "stdout",
     "output_type": "stream",
     "text": [
      "\n",
      "Training loss after 6 epoch: 0.0086\n",
      "Validation loss after 6 epoch: 0.0086\n",
      "Training accuracy after 6 epoch: 0.9849\n",
      "Validation accuracy after 6 epoch: 0.9683\n"
     ]
    },
    {
     "name": "stderr",
     "output_type": "stream",
     "text": [
      "\r",
      " 35%|█████████████████▊                                 | 7/20 [00:01<00:04,  3.03it/s]"
     ]
    },
    {
     "name": "stdout",
     "output_type": "stream",
     "text": [
      "\n",
      "Training loss after 7 epoch: 0.0078\n",
      "Validation loss after 7 epoch: 0.0078\n",
      "Training accuracy after 7 epoch: 0.9862\n",
      "Validation accuracy after 7 epoch: 0.9692\n"
     ]
    },
    {
     "name": "stderr",
     "output_type": "stream",
     "text": [
      "\r",
      " 40%|████████████████████▍                              | 8/20 [00:02<00:04,  2.78it/s]"
     ]
    },
    {
     "name": "stdout",
     "output_type": "stream",
     "text": [
      "\n",
      "Training loss after 8 epoch: 0.0066\n",
      "Validation loss after 8 epoch: 0.0066\n",
      "Training accuracy after 8 epoch: 0.9870\n",
      "Validation accuracy after 8 epoch: 0.9650\n"
     ]
    },
    {
     "name": "stderr",
     "output_type": "stream",
     "text": [
      "\r",
      " 45%|██████████████████████▉                            | 9/20 [00:02<00:04,  2.57it/s]"
     ]
    },
    {
     "name": "stdout",
     "output_type": "stream",
     "text": [
      "\n",
      "Training loss after 9 epoch: 0.0058\n",
      "Validation loss after 9 epoch: 0.0058\n",
      "Training accuracy after 9 epoch: 0.9874\n",
      "Validation accuracy after 9 epoch: 0.9658\n"
     ]
    },
    {
     "name": "stderr",
     "output_type": "stream",
     "text": [
      "\r",
      " 50%|█████████████████████████                         | 10/20 [00:03<00:04,  2.50it/s]"
     ]
    },
    {
     "name": "stdout",
     "output_type": "stream",
     "text": [
      "\n",
      "Training loss after 10 epoch: 0.0061\n",
      "Validation loss after 10 epoch: 0.0061\n",
      "Training accuracy after 10 epoch: 0.9883\n",
      "Validation accuracy after 10 epoch: 0.9675\n"
     ]
    },
    {
     "name": "stderr",
     "output_type": "stream",
     "text": [
      "\r",
      " 55%|███████████████████████████▌                      | 11/20 [00:03<00:03,  2.38it/s]"
     ]
    },
    {
     "name": "stdout",
     "output_type": "stream",
     "text": [
      "\n",
      "Training loss after 11 epoch: 0.0068\n",
      "Validation loss after 11 epoch: 0.0068\n",
      "Training accuracy after 11 epoch: 0.9887\n",
      "Validation accuracy after 11 epoch: 0.9642\n"
     ]
    },
    {
     "name": "stderr",
     "output_type": "stream",
     "text": [
      "\r",
      " 60%|██████████████████████████████                    | 12/20 [00:04<00:03,  2.38it/s]"
     ]
    },
    {
     "name": "stdout",
     "output_type": "stream",
     "text": [
      "\n",
      "Training loss after 12 epoch: 0.0064\n",
      "Validation loss after 12 epoch: 0.0064\n",
      "Training accuracy after 12 epoch: 0.9891\n",
      "Validation accuracy after 12 epoch: 0.9667\n"
     ]
    },
    {
     "name": "stderr",
     "output_type": "stream",
     "text": [
      "\r",
      " 65%|████████████████████████████████▌                 | 13/20 [00:04<00:02,  2.75it/s]"
     ]
    },
    {
     "name": "stdout",
     "output_type": "stream",
     "text": [
      "\n",
      "Training loss after 13 epoch: 0.0057\n",
      "Validation loss after 13 epoch: 0.0057\n",
      "Training accuracy after 13 epoch: 0.9901\n",
      "Validation accuracy after 13 epoch: 0.9700\n",
      "\n",
      "Training loss after 14 epoch: 0.0056\n"
     ]
    },
    {
     "name": "stderr",
     "output_type": "stream",
     "text": [
      "\r",
      " 70%|███████████████████████████████████               | 14/20 [00:04<00:01,  3.14it/s]"
     ]
    },
    {
     "name": "stdout",
     "output_type": "stream",
     "text": [
      "Validation loss after 14 epoch: 0.0056\n",
      "Training accuracy after 14 epoch: 0.9905\n",
      "Validation accuracy after 14 epoch: 0.9675\n",
      "\n",
      "Training loss after 15 epoch: 0.0061\n"
     ]
    },
    {
     "name": "stderr",
     "output_type": "stream",
     "text": [
      "\r",
      " 75%|█████████████████████████████████████▌            | 15/20 [00:04<00:01,  3.48it/s]"
     ]
    },
    {
     "name": "stdout",
     "output_type": "stream",
     "text": [
      "Validation loss after 15 epoch: 0.0061\n",
      "Training accuracy after 15 epoch: 0.9897\n",
      "Validation accuracy after 15 epoch: 0.9650\n",
      "\n",
      "Training loss after 16 epoch: 0.0057\n"
     ]
    },
    {
     "name": "stderr",
     "output_type": "stream",
     "text": [
      "\r",
      " 80%|████████████████████████████████████████          | 16/20 [00:04<00:01,  3.83it/s]"
     ]
    },
    {
     "name": "stdout",
     "output_type": "stream",
     "text": [
      "Validation loss after 16 epoch: 0.0057\n",
      "Training accuracy after 16 epoch: 0.9902\n",
      "Validation accuracy after 16 epoch: 0.9708\n"
     ]
    },
    {
     "name": "stderr",
     "output_type": "stream",
     "text": [
      "\r",
      " 85%|██████████████████████████████████████████▌       | 17/20 [00:05<00:00,  4.00it/s]"
     ]
    },
    {
     "name": "stdout",
     "output_type": "stream",
     "text": [
      "\n",
      "Training loss after 17 epoch: 0.0071\n",
      "Validation loss after 17 epoch: 0.0071\n",
      "Training accuracy after 17 epoch: 0.9907\n",
      "Validation accuracy after 17 epoch: 0.9683\n"
     ]
    },
    {
     "name": "stderr",
     "output_type": "stream",
     "text": [
      "\r",
      " 90%|█████████████████████████████████████████████     | 18/20 [00:05<00:00,  4.15it/s]"
     ]
    },
    {
     "name": "stdout",
     "output_type": "stream",
     "text": [
      "\n",
      "Training loss after 18 epoch: 0.0056\n",
      "Validation loss after 18 epoch: 0.0056\n",
      "Training accuracy after 18 epoch: 0.9907\n",
      "Validation accuracy after 18 epoch: 0.9667\n"
     ]
    },
    {
     "name": "stderr",
     "output_type": "stream",
     "text": [
      "\r",
      " 95%|███████████████████████████████████████████████▌  | 19/20 [00:05<00:00,  4.29it/s]"
     ]
    },
    {
     "name": "stdout",
     "output_type": "stream",
     "text": [
      "\n",
      "Training loss after 19 epoch: 0.0056\n",
      "Validation loss after 19 epoch: 0.0056\n",
      "Training accuracy after 19 epoch: 0.9909\n",
      "Validation accuracy after 19 epoch: 0.9633\n"
     ]
    },
    {
     "name": "stderr",
     "output_type": "stream",
     "text": [
      "100%|██████████████████████████████████████████████████| 20/20 [00:05<00:00,  3.42it/s]"
     ]
    },
    {
     "name": "stdout",
     "output_type": "stream",
     "text": [
      "\n",
      "Training loss after 20 epoch: 0.0065\n",
      "Validation loss after 20 epoch: 0.0065\n",
      "Training accuracy after 20 epoch: 0.9915\n",
      "Validation accuracy after 20 epoch: 0.9658\n",
      "Training finished!\n"
     ]
    },
    {
     "name": "stderr",
     "output_type": "stream",
     "text": [
      "\n"
     ]
    }
   ],
   "source": [
    "architecture = []\n",
    "@interact(HiddenLayers=(1, 3, 1))\n",
    "def architecture_ui(HiddenLayers=1):\n",
    "    global architecture\n",
    "    architecture = []\n",
    "    for i in range(HiddenLayers):\n",
    "        architecture.append(widgets.BoundedIntText(value=100, min=10, max=1000, step=10, description='hidden %d' % (i + 1)))\n",
    "    ui = widgets.HBox(architecture)\n",
    "    display(ui)\n",
    "                             \n",
    "inputs_ui = widgets.VBox([num_classes_widget, num_epochs_widget, learning_rate_widget])\n",
    "ui = widgets.HBox([inputs_ui, widgets.VBox([samples_per_class_widget, widgets.HBox([problem_type, optimizer_type]),\n",
    "                                            widgets.HBox([create_btn, train_btn, test_btn, test_dataset_btn])])])\n",
    "                   \n",
    "display(ui)"
   ]
  },
  {
   "cell_type": "code",
   "execution_count": 57,
   "metadata": {},
   "outputs": [
    {
     "name": "stderr",
     "output_type": "stream",
     "text": [
      "100%|██████████████████████████████████████████████| 500/500 [00:00<00:00, 9382.64it/s]\n",
      "100%|██████████████████████████████████████████████| 500/500 [00:00<00:00, 9829.54it/s]\n",
      "100%|█████████████████████████████████████████████| 500/500 [00:00<00:00, 10903.02it/s]\n",
      "100%|██████████████████████████████████████████████| 500/500 [00:00<00:00, 8945.14it/s]"
     ]
    },
    {
     "name": "stdout",
     "output_type": "stream",
     "text": [
      "0.962\n"
     ]
    },
    {
     "name": "stderr",
     "output_type": "stream",
     "text": [
      "\n"
     ]
    }
   ],
   "source": [
    "X_test, y_test = dt.create_dataset(num_classes_widget.value, 500)\n",
    "predictions = model.predict(X_test)\n",
    "labels = np.argmax(predictions, axis=1)\n",
    "print(np.mean(y_test == labels))"
   ]
  },
  {
   "cell_type": "code",
   "execution_count": null,
   "metadata": {},
   "outputs": [],
   "source": []
  },
  {
   "cell_type": "markdown",
   "metadata": {},
   "source": [
    "## Test"
   ]
  }
 ],
 "metadata": {
  "kernelspec": {
   "display_name": "Python 3",
   "language": "python",
   "name": "python3"
  },
  "language_info": {
   "codemirror_mode": {
    "name": "ipython",
    "version": 3
   },
   "file_extension": ".py",
   "mimetype": "text/x-python",
   "name": "python",
   "nbconvert_exporter": "python",
   "pygments_lexer": "ipython3",
   "version": "3.8.8"
  }
 },
 "nbformat": 4,
 "nbformat_minor": 1
}
