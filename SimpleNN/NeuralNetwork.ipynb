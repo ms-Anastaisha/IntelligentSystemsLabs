{
 "cells": [
  {
   "cell_type": "code",
   "execution_count": 5,
   "metadata": {
    "pycharm": {
     "is_executing": true
    }
   },
   "outputs": [],
   "source": [
    "import visualization as vis\n",
    "import nn\n",
    "import dataset as dt\n",
    "import numpy as np\n",
    "import cv2\n",
    "import matplotlib.pyplot as plt\n",
    "import ipywidgets as widgets\n",
    "from ipywidgets import interact, interactive, interact_manual\n",
    "\n",
    "\n"
   ]
  },
  {
   "cell_type": "markdown",
   "metadata": {},
   "source": [
    "## Generated figures example"
   ]
  },
  {
   "cell_type": "code",
   "execution_count": 13,
   "metadata": {
    "pycharm": {
     "is_executing": true
    }
   },
   "outputs": [
    {
     "data": {
      "text/plain": [
       "<matplotlib.image.AxesImage at 0x180f0b3fdf0>"
      ]
     },
     "execution_count": 13,
     "metadata": {},
     "output_type": "execute_result"
    },
    {
     "data": {
      "image/png": "[encoded data removed]",
      "text/plain": [
       "<Figure size 504x504 with 4 Axes>"
      ]
     },
     "metadata": {
      "needs_background": "light"
     },
     "output_type": "display_data"
    }
   ],
   "source": [
    "%matplotlib inline\n",
    "\n",
    "fig = plt.figure(figsize=(7,7))\n",
    "ax1 = fig.add_subplot(2,2,1)\n",
    "ax1.imshow(vis.visualize_figure(dt.create_random_circle()),cmap='gray')\n",
    "ax2 = fig.add_subplot(2,2,2)\n",
    "ax2.imshow(vis.visualize_figure(dt.create_random_rectangle()), cmap='gray')\n",
    "ax3 = fig.add_subplot(2,2,3)\n",
    "ax3.imshow(vis.visualize_figure(dt.create_random_sine()),cmap='gray')\n",
    "ax4 = fig.add_subplot(2,2,4)\n",
    "ax4.imshow(vis.visualize_figure(dt.create_random_triangle()),cmap='gray')\n",
    "                "
   ]
  },
  {
   "cell_type": "markdown",
   "metadata": {},
   "source": [
    "## Control panel"
   ]
  },
  {
   "cell_type": "code",
   "execution_count": 8,
   "metadata": {
    "pycharm": {
     "is_executing": true
    }
   },
   "outputs": [],
   "source": [
    "num_classes_widget = widgets.BoundedIntText(value=2, min=2, max=4, step=1, description='num classes:')\n",
    "num_epochs_widget = widgets.BoundedIntText(value=5, min=1, max=20, step=1, description='num epochs:')\n",
    "learning_rate_widget = widgets.Dropdown(options=[1e-4, 1e-3, 1e-2], value=1e-3, description='learning rate:')\n",
    "samples_per_class_widget = widgets.BoundedIntText(value=1000, min=750, max=5000, step=250, description=\"per class:\")\n",
    "train_btn = widgets.Button(description='Train', button_style='', icon='dumbbell')\n",
    "create_btn = widgets.Button(description='Recreate', button_style='', icon='starfighter')   \n",
    "test_btn = widgets.Button(description='Test', button_style='',  icon='vial')"
   ]
  },
  {
   "cell_type": "code",
   "execution_count": 9,
   "metadata": {
    "pycharm": {
     "is_executing": true
    }
   },
   "outputs": [
    {
     "data": {
      "application/vnd.jupyter.widget-view+json": {
       "model_id": "c637de7383c34b2e802c62f2ae17ac21",
       "version_major": 2,
       "version_minor": 0
      },
      "text/plain": [
       "interactive(children=(IntSlider(value=1, description='x', max=3, min=1), Output()), _dom_classes=('widget-inte…"
      ]
     },
     "metadata": {},
     "output_type": "display_data"
    },
    {
     "data": {
      "application/vnd.jupyter.widget-view+json": {
       "model_id": "85d0987daaba471a82df446a649c0415",
       "version_major": 2,
       "version_minor": 0
      },
      "text/plain": [
       "HBox(children=(VBox(children=(BoundedIntText(value=2, description='num classes:', max=4, min=2), BoundedIntTex…"
      ]
     },
     "metadata": {},
     "output_type": "display_data"
    }
   ],
   "source": [
    "architectures = []\n",
    "@interact(x=(1, 3, 1))\n",
    "def architecture(x=1):\n",
    "    global architectures\n",
    "    architectures = []\n",
    "    for i in range(x):\n",
    "        architectures.append(widgets.BoundedIntText(value=500, min=100, max=1000, step=100, description='hidden %d' % (i + 1)))\n",
    "    ui = widgets.HBox(architectures)\n",
    "    display(ui)\n",
    "                             \n",
    "inputs_ui = widgets.VBox([num_classes_widget, num_epochs_widget, learning_rate_widget])\n",
    "ui = widgets.HBox([inputs_ui, widgets.VBox([samples_per_class_widget, widgets.HBox([create_btn, train_btn, test_btn])])])\n",
    "                   \n",
    "display(ui)"
   ]
  },
  {
   "cell_type": "code",
   "execution_count": null,
   "metadata": {
    "pycharm": {
     "is_executing": true
    }
   },
   "outputs": [],
   "source": [
    "\n",
    "    "
   ]
  },
  {
   "cell_type": "markdown",
   "metadata": {},
   "source": [
    "## Inference"
   ]
  }
 ],
 "metadata": {
  "kernelspec": {
   "display_name": "Python 3",
   "language": "python",
   "name": "python3"
  },
  "language_info": {
   "codemirror_mode": {
    "name": "ipython",
    "version": 3
   },
   "file_extension": ".py",
   "mimetype": "text/x-python",
   "name": "python",
   "nbconvert_exporter": "python",
   "pygments_lexer": "ipython3",
   "version": "3.8.8"
  }
 },
 "nbformat": 4,
 "nbformat_minor": 1
}